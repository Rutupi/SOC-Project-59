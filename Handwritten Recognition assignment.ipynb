{
 "cells": [
  {
   "cell_type": "markdown",
   "id": "c1b5ed13",
   "metadata": {},
   "source": [
    "# Project of handwritten recognition using CNN"
   ]
  },
  {
   "cell_type": "markdown",
   "id": "9dd3d1af",
   "metadata": {},
   "source": [
    "starting I import all the libraries that were required including the torch, torchvision for the working on CNN, torchvision for transformation and matplotlib for visualization of the data."
   ]
  },
  {
   "cell_type": "code",
   "execution_count": 3,
   "id": "b8d75726",
   "metadata": {},
   "outputs": [],
   "source": [
    "import torch\n",
    "import torch.nn as nn\n",
    "import torchvision\n",
    "import torchvision.transforms as transforms\n",
    "import matplotlib.pyplot as plt\n",
    "import numpy as np"
   ]
  },
  {
   "cell_type": "markdown",
   "id": "6e22bf84",
   "metadata": {},
   "source": [
    "Checking if gpu is present on the device for working"
   ]
  },
  {
   "cell_type": "code",
   "execution_count": 4,
   "id": "fea8fd4e",
   "metadata": {},
   "outputs": [],
   "source": [
    "device = torch.device(\"cuda\" if torch.cuda.is_available() else \"cpu\")"
   ]
  },
  {
   "cell_type": "markdown",
   "id": "a48f2d7a",
   "metadata": {},
   "source": [
    "Variable for the task"
   ]
  },
  {
   "cell_type": "code",
   "execution_count": 5,
   "id": "a206bb25",
   "metadata": {},
   "outputs": [],
   "source": [
    "input_size = 784  # 28x28 images\n",
    "hidden_size = 100\n",
    "num_classes = 10\n",
    "num_epochs = 2\n",
    "batch_size = 100\n",
    "learning_rate = 0.001"
   ]
  },
  {
   "cell_type": "markdown",
   "id": "badc71af",
   "metadata": {},
   "source": [
    "Downloading the training and testing dataset. Here using the MNIST inbuild dataset from pytorch."
   ]
  },
  {
   "cell_type": "code",
   "execution_count": 6,
   "id": "a053eaa8",
   "metadata": {},
   "outputs": [],
   "source": [
    "train_dataset = torchvision.datasets.MNIST(root='./data',train=True, transform= transforms.ToTensor(), download=True)\n",
    "test_dataset = torchvision.datasets.MNIST(root='./data',train=False, transform= transforms.ToTensor())\n",
    "train_loader = torch.utils.data.DataLoader(dataset=train_dataset, batch_size=batch_size, shuffle=True)\n",
    "test_loader = torch.utils.data.DataLoader(dataset=test_dataset, batch_size=batch_size, shuffle=False)\n"
   ]
  },
  {
   "cell_type": "markdown",
   "id": "741d2a36",
   "metadata": {},
   "source": [
    "Tensor transformation and normalisation of the data "
   ]
  },
  {
   "cell_type": "code",
   "execution_count": 7,
   "id": "1cf43d00",
   "metadata": {},
   "outputs": [],
   "source": [
    "# Preprocessing: Transformation and Normalization\n",
    "transform = transforms.Compose([\n",
    "    transforms.ToTensor(),  # Convert images to PyTorch tensors\n",
    "    transforms.Normalize((0.1307,), (0.3081,))  # Normalize with mean and std of MNIST\n",
    "])"
   ]
  },
  {
   "cell_type": "markdown",
   "id": "ad26c200",
   "metadata": {},
   "source": [
    "Visualising the data through the sample and further analysing it"
   ]
  },
  {
   "cell_type": "code",
   "execution_count": null,
   "id": "dc7cc96f",
   "metadata": {},
   "outputs": [
    {
     "name": "stdout",
     "output_type": "stream",
     "text": [
      "torch.Size([100, 1, 28, 28]) torch.Size([100])\n"
     ]
    }
   ],
   "source": [
    "examples = iter(train_loader)\n",
    "samples, labels = next(examples)\n",
    "print(samples.shape, labels.shape)\n",
    "\n",
    "plt.figure(figsize=(12,4))\n",
    "for i in range(6):\n",
    "    plt.subplot(2,3,i+1)\n",
    "    plt.imshow(samples[i][0], cmap='gray')\n",
    "    plt.title(f\"Label: {labels[i].item()}\")\n",
    "    plt.axis('off')\n",
    "plt.show()\n"
   ]
  },
  {
   "cell_type": "markdown",
   "id": "b05433a2",
   "metadata": {},
   "source": [
    "Following on I tried to implement the Actual CNN architecture"
   ]
  },
  {
   "cell_type": "code",
   "execution_count": 8,
   "id": "4657b2cc",
   "metadata": {},
   "outputs": [],
   "source": [
    "import torch\n",
    "import torch.nn as nn\n",
    "import torch.nn.functional as F\n",
    "\n",
    "class MNIST_CNN(nn.Module):\n",
    "    def __init__(self):\n",
    "        super(MNIST_CNN, self).__init__()\n",
    "        \n",
    "        # Convolutional Layer 1\n",
    "        self.conv1 = nn.Conv2d(in_channels=1, out_channels=32, kernel_size=3, stride=1, padding=1)\n",
    "        \n",
    "        # Convolutional Layer 2\n",
    "        self.conv2 = nn.Conv2d(in_channels=32, out_channels=64, kernel_size=3, stride=1, padding=1)\n",
    "        \n",
    "        # Max Pooling\n",
    "        self.pool = nn.MaxPool2d(kernel_size=2, stride=2)\n",
    "        \n",
    "        # Fully Connected Layers\n",
    "        self.fc1 = nn.Linear(in_features=64*7*7, out_features=128)\n",
    "        self.fc2 = nn.Linear(in_features=128, out_features=10)\n",
    "\n",
    "        # LogSoftmax for multi-class classification\n",
    "        self.output_activation = nn.LogSoftmax(dim=1)\n",
    "\n",
    "    def forward(self, x):\n",
    "        # First Convolution -> ReLU -> Pooling\n",
    "        x = self.pool(F.relu(self.conv1(x)))\n",
    "\n",
    "        # Second Convolution -> ReLU -> Pooling\n",
    "        x = self.pool(F.relu(self.conv2(x)))\n",
    "\n",
    "        # Flatten the tensor\n",
    "        x = x.view(-1, 64 * 7 * 7)\n",
    "\n",
    "        # Fully Connected Layer 1\n",
    "        x = F.relu(self.fc1(x))\n",
    "\n",
    "        # Output Layer\n",
    "        x = self.output_activation(self.fc2(x))\n",
    "        \n",
    "        return x"
   ]
  },
  {
   "cell_type": "markdown",
   "id": "12dc68e3",
   "metadata": {},
   "source": [
    "Then I defined the model for this CNN along with the loss and optimizer functions \n",
    "\n",
    "I also trained it on the given dataset to establish the results which can be seen in the output of the following code."
   ]
  },
  {
   "cell_type": "code",
   "execution_count": 9,
   "id": "62ca1961",
   "metadata": {},
   "outputs": [
    {
     "name": "stdout",
     "output_type": "stream",
     "text": [
      "Epoch [1/2], Step [100/600], Loss: 0.1838\n",
      "Epoch [1/2], Step [200/600], Loss: 0.1204\n",
      "Epoch [1/2], Step [300/600], Loss: 0.1072\n",
      "Epoch [1/2], Step [400/600], Loss: 0.0689\n",
      "Epoch [1/2], Step [500/600], Loss: 0.0340\n",
      "Epoch [1/2], Step [600/600], Loss: 0.0918\n",
      "Epoch [2/2], Step [100/600], Loss: 0.1061\n",
      "Epoch [2/2], Step [200/600], Loss: 0.0598\n",
      "Epoch [2/2], Step [300/600], Loss: 0.0393\n",
      "Epoch [2/2], Step [400/600], Loss: 0.0101\n",
      "Epoch [2/2], Step [500/600], Loss: 0.0119\n",
      "Epoch [2/2], Step [600/600], Loss: 0.0191\n"
     ]
    }
   ],
   "source": [
    "model = MNIST_CNN().to(device)\n",
    "criterion = nn.NLLLoss()\n",
    "optimizer = torch.optim.Adam(model.parameters(), lr=learning_rate)\n",
    "# Training the model\n",
    "num_epochs = 2\n",
    "for epoch in range(num_epochs):\n",
    "    for i, (images, labels) in enumerate(train_loader):\n",
    "        images = images.to(device)\n",
    "        labels = labels.to(device)\n",
    "\n",
    "        # Forward pass\n",
    "        outputs = model(images)\n",
    "        loss = criterion(outputs, labels)\n",
    "\n",
    "        # Backward and optimize\n",
    "        optimizer.zero_grad()\n",
    "        loss.backward()\n",
    "        optimizer.step()\n",
    "\n",
    "        if (i+1) % 100 == 0:\n",
    "            print(f'Epoch [{epoch+1}/{num_epochs}], Step [{i+1}/{len(train_loader)}], Loss: {loss.item():.4f}')"
   ]
  },
  {
   "cell_type": "markdown",
   "id": "dceff66a",
   "metadata": {},
   "source": [
    "Following this let us try to analyse the performance based on the confusion matrix which can be done using the sklearn library."
   ]
  },
  {
   "cell_type": "code",
   "execution_count": 10,
   "id": "4104a988",
   "metadata": {},
   "outputs": [
    {
     "data": {
      "image/png": "[encoded data removed]",
      "text/plain": [
       "<Figure size 640x480 with 2 Axes>"
      ]
     },
     "metadata": {},
     "output_type": "display_data"
    }
   ],
   "source": [
    "from sklearn.metrics import confusion_matrix, ConfusionMatrixDisplay\n",
    "import matplotlib.pyplot as plt\n",
    "\n",
    "# Assuming you have the trained model and test_loader\n",
    "import torch\n",
    "\n",
    "model.eval()\n",
    "all_preds = []\n",
    "all_labels = []\n",
    "\n",
    "with torch.no_grad():\n",
    "    for images, labels in test_loader:\n",
    "        images = images.to(device)\n",
    "        outputs = model(images)\n",
    "        _, preds = torch.max(outputs, 1)\n",
    "        all_preds.extend(preds.cpu().numpy())\n",
    "        all_labels.extend(labels.numpy())\n",
    "\n",
    "cm = confusion_matrix(all_labels, all_preds)\n",
    "disp = ConfusionMatrixDisplay(confusion_matrix=cm, display_labels=list(range(10)))\n",
    "disp.plot(cmap='Blues')\n",
    "plt.title(\"Confusion Matrix\")\n",
    "plt.show()\n"
   ]
  }
 ],
 "metadata": {
  "kernelspec": {
   "display_name": "base",
   "language": "python",
   "name": "python3"
  },
  "language_info": {
   "codemirror_mode": {
    "name": "ipython",
    "version": 3
   },
   "file_extension": ".py",
   "mimetype": "text/x-python",
   "name": "python",
   "nbconvert_exporter": "python",
   "pygments_lexer": "ipython3",
   "version": "3.12.7"
  }
 },
 "nbformat": 4,
 "nbformat_minor": 5
}
